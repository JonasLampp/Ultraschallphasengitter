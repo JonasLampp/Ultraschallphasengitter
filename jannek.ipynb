{
 "cells": [
  {
   "cell_type": "code",
   "execution_count": 1,
   "id": "86e9c785-034f-419e-ad3c-c5ccf055d40a",
   "metadata": {},
   "outputs": [],
   "source": [
    "# imports\n",
    "import numpy as np\n",
    "import matplotlib.pyplot as plt\n",
    "import matplotlib.colors as c\n",
    "from matplotlib import rcParams\n",
    "import sympy as sy\n",
    "import scipy.constants as pc\n",
    "from sympy import *\n",
    "from math import log10, floor\n",
    "from math import *\n",
    "import re\n",
    "\n",
    "rcParams['font.size'] = 15\n",
    "rcParams['font.weight'] = 'bold'\n",
    "rcParams['text.usetex'] = True\n",
    "rcParams['font.family'] = 'sans-serif'\n",
    "rcParams['font.sans-serif'] = ['Helvetica']"
   ]
  },
  {
   "cell_type": "code",
   "execution_count": 2,
   "id": "1d021c2f-9185-4c8e-935b-283f08679dc3",
   "metadata": {},
   "outputs": [],
   "source": [
    "import numpy as np\n",
    "from sympy import * \n",
    "import sympy as sym\n",
    "from matplotlib import pyplot as plt\n",
    "import matplotlib.ticker as ticker\n",
    "import math\n",
    "import pandas as pd\n",
    "from scipy.optimize import curve_fit"
   ]
  },
  {
   "cell_type": "code",
   "execution_count": 3,
   "id": "c1c97ee4-624b-477f-b0b2-a887c4226fd6",
   "metadata": {},
   "outputs": [],
   "source": [
    "import sympy as sy\n",
    "import numpy as np\n",
    "\n",
    "def sub(zMax, variable, wert):\n",
    "    return zMax.subs([(variable, wert)])\n",
    "def fehler(f, werte, unsicherheiten, variablen):\n",
    "    zMax = 0\n",
    "    for i in range(werte.size):\n",
    "        dif = np.abs(sy.diff(f, variablen[i]))\n",
    "        zMax += (dif * unsicherheiten[i])**2\n",
    "    zMax = sqrt(zMax)\n",
    "    for j in range(werte.size):\n",
    "        zMax = sub(zMax, variablen[j], werte[j])\n",
    "    return zMax"
   ]
  },
  {
   "cell_type": "code",
   "execution_count": 4,
   "id": "66eb83af-abea-4990-b348-e5ddc74d3689",
   "metadata": {},
   "outputs": [],
   "source": [
    "def fehler(f, werte, unsicherheiten, variablen):\n",
    "    zMax = 0\n",
    "    for i in range(werte.size):\n",
    "        dif = np.abs(sy.diff(f, variablen[i]))\n",
    "        zMax += (dif * unsicherheiten[i])**2\n",
    "    zMax = sqrt(zMax)\n",
    "    for j in range(werte.size):\n",
    "        zMax = sub(zMax, variablen[j], werte[j])\n",
    "    return zMax"
   ]
  },
  {
   "cell_type": "code",
   "execution_count": null,
   "id": "7f36ec09-0010-48ef-b058-32e79a8d7d8c",
   "metadata": {},
   "outputs": [],
   "source": [
    "#einlesen der Daten\n",
    "str_0 = np.array([ '-09', '-12', '-13', '-14'])\n",
    "\n",
    "Time_0 = []\n",
    "Channel_A_0  = []\n",
    "Channel_B_0  = []\n",
    "\n",
    "\n",
    "for i in str_0:\n",
    "    Time_0.append(np.array(pd.read_csv('ab1/ab1_0°_'+str(i)+'_1_HM1508.csv'))[:,0]) \n",
    "    Channel_A_0.append(np.array(pd.read_csv('ab1/ab1_0°_'+str(i)+'_1_HM1508.csv'))[:,1])\n",
    "    Channel_B_0.append(np.array(pd.read_csv('ab1/ab1_0°_'+str(i)+'_1_HM1508.csv'))[:,2])\n",
    "for i in range(2,7):\n",
    "    print(i)\n",
    "    Time_0.append(np.array(pd.read_csv('ab1/ab1_0°_-14_'+str(i)+'_HM1508.csv'))[:,0]) \n",
    "    Channel_A_0.append(np.array(pd.read_csv('ab1/ab1_0°_-14_'+str(i)+'_HM1508.csv'))[:,1])\n",
    "    Channel_B_0.append(np.array(pd.read_csv('ab1/ab1_0°_-14_'+str(i)+'_HM1508.csv'))[:,2])\n",
    "time_0 = np.array(Time_0,dtype=float)\n",
    "channel_A_0 = np.array(Channel_A_0) \n",
    "channel_B_0 = np.array(Channel_B_0)\n"
   ]
  }
 ],
 "metadata": {
  "kernelspec": {
   "display_name": "Python 3",
   "language": "python",
   "name": "python3"
  },
  "language_info": {
   "codemirror_mode": {
    "name": "ipython",
    "version": 3
   },
   "file_extension": ".py",
   "mimetype": "text/x-python",
   "name": "python",
   "nbconvert_exporter": "python",
   "pygments_lexer": "ipython3",
   "version": "3.8.8"
  }
 },
 "nbformat": 4,
 "nbformat_minor": 5
}
